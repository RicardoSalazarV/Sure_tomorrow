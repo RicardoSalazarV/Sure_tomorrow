{
 "cells": [
  {
   "cell_type": "markdown",
   "metadata": {},
   "source": [
    "# Descripción"
   ]
  },
  {
   "cell_type": "markdown",
   "metadata": {},
   "source": [
    "La compañía de seguros Sure Tomorrow quiere resolver varias tareas con la ayuda de machine learning y te pide que evalúes esa posibilidad.\n",
    "- Tarea 1: encontrar clientes que sean similares a un cliente determinado. Esto ayudará a los agentes de la compañía con el marketing.\n",
    "- Tarea 2: predecir la probabilidad de que un nuevo cliente reciba una prestación del seguro. ¿Puede un modelo de predictivo funcionar mejor que un modelo dummy?\n",
    "- Tarea 3: predecir el número de prestaciones de seguro que un nuevo cliente pueda recibir utilizando un modelo de regresión lineal.\n",
    "- Tarea 4: proteger los datos personales de los clientes sin afectar al modelo del ejercicio anterior. Es necesario desarrollar un algoritmo de transformación de datos que dificulte la recuperación de la información personal si los datos caen en manos equivocadas. Esto se denomina enmascaramiento u ofuscación de datos. Pero los datos deben protegerse de tal manera que no se vea afectada la calidad de los modelos de machine learning. No es necesario elegir el mejor modelo, basta con demostrar que el algoritmo funciona correctamente.\n"
   ]
  },
  {
   "cell_type": "markdown",
   "metadata": {},
   "source": [
    "# Preprocesamiento y exploración de datos\n",
    "\n",
    "## Inicialización"
   ]
  },
  {
   "cell_type": "code",
   "execution_count": 2,
   "metadata": {},
   "outputs": [],
   "source": [
    "import numpy as np\n",
    "import math\n",
    "import pandas as pd\n",
    "\n",
    "import seaborn as sns\n",
    "\n",
    "import sklearn.linear_model\n",
    "from sklearn import neighbors,metrics\n",
    "import sklearn.preprocessing\n",
    "from sklearn.neighbors import NearestNeighbors\n",
    "from sklearn.preprocessing import MaxAbsScaler\n",
    "\n",
    "from sklearn.model_selection import train_test_split\n",
    "\n",
    "from IPython.display import display\n",
    "import matplotlib.pyplot as plt\n",
    "\n",
    "\n",
    "from sklearn.dummy import DummyClassifier\n",
    "\n",
    "\n"
   ]
  },
  {
   "cell_type": "markdown",
   "metadata": {},
   "source": [
    "## Carga de datos"
   ]
  },
  {
   "cell_type": "markdown",
   "metadata": {},
   "source": [
    "Carga los datos y haz una revisión básica para comprobar que no hay problemas obvios."
   ]
  },
  {
   "cell_type": "code",
   "execution_count": 3,
   "metadata": {},
   "outputs": [],
   "source": [
    "data = pd.read_csv('/datasets/insurance_us.csv')"
   ]
  },
  {
   "cell_type": "markdown",
   "metadata": {},
   "source": [
    "Renombramos las columnas para que el código se vea más coherente con su estilo."
   ]
  },
  {
   "cell_type": "code",
   "execution_count": 4,
   "metadata": {},
   "outputs": [],
   "source": [
    "data = data.rename(columns={'Gender': 'gender', 'Age': 'age', 'Salary': 'income', 'Family members': 'family_members', 'Insurance benefits': 'insurance_benefits'})"
   ]
  },
  {
   "cell_type": "code",
   "execution_count": 5,
   "metadata": {},
   "outputs": [
    {
     "data": {
      "text/html": [
       "<div>\n",
       "<style scoped>\n",
       "    .dataframe tbody tr th:only-of-type {\n",
       "        vertical-align: middle;\n",
       "    }\n",
       "\n",
       "    .dataframe tbody tr th {\n",
       "        vertical-align: top;\n",
       "    }\n",
       "\n",
       "    .dataframe thead th {\n",
       "        text-align: right;\n",
       "    }\n",
       "</style>\n",
       "<table border=\"1\" class=\"dataframe\">\n",
       "  <thead>\n",
       "    <tr style=\"text-align: right;\">\n",
       "      <th></th>\n",
       "      <th>gender</th>\n",
       "      <th>age</th>\n",
       "      <th>income</th>\n",
       "      <th>family_members</th>\n",
       "      <th>insurance_benefits</th>\n",
       "    </tr>\n",
       "  </thead>\n",
       "  <tbody>\n",
       "    <tr>\n",
       "      <th>2223</th>\n",
       "      <td>1</td>\n",
       "      <td>23.0</td>\n",
       "      <td>50100.0</td>\n",
       "      <td>0</td>\n",
       "      <td>0</td>\n",
       "    </tr>\n",
       "    <tr>\n",
       "      <th>4686</th>\n",
       "      <td>0</td>\n",
       "      <td>25.0</td>\n",
       "      <td>34800.0</td>\n",
       "      <td>1</td>\n",
       "      <td>0</td>\n",
       "    </tr>\n",
       "    <tr>\n",
       "      <th>3221</th>\n",
       "      <td>1</td>\n",
       "      <td>32.0</td>\n",
       "      <td>47500.0</td>\n",
       "      <td>1</td>\n",
       "      <td>0</td>\n",
       "    </tr>\n",
       "    <tr>\n",
       "      <th>698</th>\n",
       "      <td>0</td>\n",
       "      <td>32.0</td>\n",
       "      <td>41900.0</td>\n",
       "      <td>1</td>\n",
       "      <td>0</td>\n",
       "    </tr>\n",
       "    <tr>\n",
       "      <th>90</th>\n",
       "      <td>1</td>\n",
       "      <td>23.0</td>\n",
       "      <td>35700.0</td>\n",
       "      <td>2</td>\n",
       "      <td>0</td>\n",
       "    </tr>\n",
       "    <tr>\n",
       "      <th>1168</th>\n",
       "      <td>1</td>\n",
       "      <td>31.0</td>\n",
       "      <td>38600.0</td>\n",
       "      <td>0</td>\n",
       "      <td>0</td>\n",
       "    </tr>\n",
       "    <tr>\n",
       "      <th>4508</th>\n",
       "      <td>0</td>\n",
       "      <td>28.0</td>\n",
       "      <td>48500.0</td>\n",
       "      <td>2</td>\n",
       "      <td>0</td>\n",
       "    </tr>\n",
       "    <tr>\n",
       "      <th>1622</th>\n",
       "      <td>0</td>\n",
       "      <td>37.0</td>\n",
       "      <td>54000.0</td>\n",
       "      <td>1</td>\n",
       "      <td>0</td>\n",
       "    </tr>\n",
       "    <tr>\n",
       "      <th>3410</th>\n",
       "      <td>0</td>\n",
       "      <td>24.0</td>\n",
       "      <td>33900.0</td>\n",
       "      <td>2</td>\n",
       "      <td>0</td>\n",
       "    </tr>\n",
       "    <tr>\n",
       "      <th>1391</th>\n",
       "      <td>1</td>\n",
       "      <td>29.0</td>\n",
       "      <td>40100.0</td>\n",
       "      <td>1</td>\n",
       "      <td>0</td>\n",
       "    </tr>\n",
       "  </tbody>\n",
       "</table>\n",
       "</div>"
      ],
      "text/plain": [
       "      gender   age   income  family_members  insurance_benefits\n",
       "2223       1  23.0  50100.0               0                   0\n",
       "4686       0  25.0  34800.0               1                   0\n",
       "3221       1  32.0  47500.0               1                   0\n",
       "698        0  32.0  41900.0               1                   0\n",
       "90         1  23.0  35700.0               2                   0\n",
       "1168       1  31.0  38600.0               0                   0\n",
       "4508       0  28.0  48500.0               2                   0\n",
       "1622       0  37.0  54000.0               1                   0\n",
       "3410       0  24.0  33900.0               2                   0\n",
       "1391       1  29.0  40100.0               1                   0"
      ]
     },
     "execution_count": 5,
     "metadata": {},
     "output_type": "execute_result"
    }
   ],
   "source": [
    "data.sample(10)"
   ]
  },
  {
   "cell_type": "code",
   "execution_count": 6,
   "metadata": {},
   "outputs": [
    {
     "name": "stdout",
     "output_type": "stream",
     "text": [
      "<class 'pandas.core.frame.DataFrame'>\n",
      "RangeIndex: 5000 entries, 0 to 4999\n",
      "Data columns (total 5 columns):\n",
      " #   Column              Non-Null Count  Dtype  \n",
      "---  ------              --------------  -----  \n",
      " 0   gender              5000 non-null   int64  \n",
      " 1   age                 5000 non-null   float64\n",
      " 2   income              5000 non-null   float64\n",
      " 3   family_members      5000 non-null   int64  \n",
      " 4   insurance_benefits  5000 non-null   int64  \n",
      "dtypes: float64(2), int64(3)\n",
      "memory usage: 195.4 KB\n"
     ]
    }
   ],
   "source": [
    "data.info()"
   ]
  },
  {
   "cell_type": "code",
   "execution_count": 7,
   "metadata": {},
   "outputs": [],
   "source": [
    "# puede que queramos cambiar el tipo de edad (de float a int) aunque esto no es crucial\n",
    "# escribe tu conversión aquí si lo deseas:\n",
    "data['age'] = data['age'].astype(int)"
   ]
  },
  {
   "cell_type": "code",
   "execution_count": 8,
   "metadata": {},
   "outputs": [
    {
     "name": "stdout",
     "output_type": "stream",
     "text": [
      "0    1\n",
      "1    0\n",
      "2    0\n",
      "3    0\n",
      "4    1\n",
      "Name: gender, dtype: int64\n",
      "0    41\n",
      "1    46\n",
      "2    29\n",
      "3    21\n",
      "4    28\n",
      "Name: age, dtype: int64\n"
     ]
    }
   ],
   "source": [
    "# comprueba que la conversión se haya realizado con éxito\n",
    "print(data['gender'].head())\n",
    "print(data['age'].head())"
   ]
  },
  {
   "cell_type": "code",
   "execution_count": 9,
   "metadata": {},
   "outputs": [],
   "source": [
    "# ahora echa un vistazo a las estadísticas descriptivas de los datos.# ¿Se ve todo bien?"
   ]
  },
  {
   "cell_type": "code",
   "execution_count": 10,
   "metadata": {},
   "outputs": [
    {
     "name": "stdout",
     "output_type": "stream",
     "text": [
      "            gender          age        income  family_members  \\\n",
      "count  5000.000000  5000.000000   5000.000000     5000.000000   \n",
      "mean      0.499000    30.952800  39916.360000        1.194200   \n",
      "std       0.500049     8.440807   9900.083569        1.091387   \n",
      "min       0.000000    18.000000   5300.000000        0.000000   \n",
      "25%       0.000000    24.000000  33300.000000        0.000000   \n",
      "50%       0.000000    30.000000  40200.000000        1.000000   \n",
      "75%       1.000000    37.000000  46600.000000        2.000000   \n",
      "max       1.000000    65.000000  79000.000000        6.000000   \n",
      "\n",
      "       insurance_benefits  \n",
      "count         5000.000000  \n",
      "mean             0.148000  \n",
      "std              0.463183  \n",
      "min              0.000000  \n",
      "25%              0.000000  \n",
      "50%              0.000000  \n",
      "75%              0.000000  \n",
      "max              5.000000  \n"
     ]
    }
   ],
   "source": [
    "print(data.describe())"
   ]
  },
  {
   "cell_type": "markdown",
   "metadata": {},
   "source": [
    "## Análisis exploratorio de datos"
   ]
  },
  {
   "cell_type": "markdown",
   "metadata": {},
   "source": [
    "Vamos a comprobar rápidamente si existen determinados grupos de clientes observando el gráfico de pares."
   ]
  },
  {
   "cell_type": "code",
   "execution_count": 11,
   "metadata": {},
   "outputs": [
    {
     "data": {
      "image/png": "[encoded data removed]",
      "text/plain": [
       "<Figure size 1200x1200 with 30 Axes>"
      ]
     },
     "metadata": {},
     "output_type": "display_data"
    }
   ],
   "source": [
    "g = sns.pairplot(data, kind='hist')\n",
    "g.fig.set_size_inches(12, 12)"
   ]
  },
  {
   "cell_type": "markdown",
   "metadata": {},
   "source": [
    "De acuerdo, es un poco complicado detectar grupos obvios (clústeres) ya que es difícil combinar diversas variables simultáneamente (para analizar distribuciones multivariadas). Ahí es donde LA y ML pueden ser bastante útiles."
   ]
  },
  {
   "cell_type": "markdown",
   "metadata": {},
   "source": [
    "# Tarea 1. Clientes similares"
   ]
  },
  {
   "cell_type": "markdown",
   "metadata": {},
   "source": [
    "En el lenguaje de ML, es necesario desarrollar un procedimiento que devuelva los k vecinos más cercanos (objetos) para un objeto dado basándose en la distancia entre los objetos.\n",
    "Es posible que quieras revisar las siguientes lecciones (capítulo -> lección)- Distancia entre vectores -> Distancia euclidiana\n",
    "- Distancia entre vectores -> Distancia Manhattan\n",
    "\n",
    "Para resolver la tarea, podemos probar diferentes métricas de distancia."
   ]
  },
  {
   "cell_type": "markdown",
   "metadata": {},
   "source": [
    "Escribe una función que devuelva los k vecinos más cercanos para un $n^{th}$ objeto basándose en una métrica de distancia especificada. A la hora de realizar esta tarea no debe tenerse en cuenta el número de prestaciones de seguro recibidas.\n",
    "Puedes utilizar una implementación ya existente del algoritmo kNN de scikit-learn (consulta [el enlace](https://scikit-learn.org/stable/modules/generated/sklearn.neighbors.NearestNeighbors.html#sklearn.neighbors.NearestNeighbors)) o tu propia implementación.\n",
    "Pruébalo para cuatro combinaciones de dos casos- Escalado\n",
    "  - los datos no están escalados\n",
    "  - los datos se escalan con el escalador [MaxAbsScaler](https://scikit-learn.org/stable/modules/generated/sklearn.preprocessing.MaxAbsScaler.html)\n",
    "- Métricas de distancia\n",
    "  - Euclidiana\n",
    "  - Manhattan\n",
    "\n",
    "Responde a estas preguntas:- ¿El hecho de que los datos no estén escalados afecta al algoritmo kNN? Si es así, ¿cómo se manifiesta?- ¿Qué tan similares son los resultados al utilizar la métrica de distancia Manhattan (independientemente del escalado)?"
   ]
  },
  {
   "cell_type": "code",
   "execution_count": 12,
   "metadata": {},
   "outputs": [],
   "source": [
    "feature_names = ['gender', 'age', 'income', 'family_members']"
   ]
  },
  {
   "cell_type": "code",
   "execution_count": 13,
   "metadata": {},
   "outputs": [
    {
     "name": "stdout",
     "output_type": "stream",
     "text": [
      "Euclidean Distance, Scaled:\n",
      "       gender       age    income  family_members  insurance_benefits  distance\n",
      "0        1.0  0.630769  0.627848        0.166667                   0  0.000000\n",
      "2689     1.0  0.630769  0.634177        0.166667                   0  0.006329\n",
      "133      1.0  0.615385  0.636709        0.166667                   0  0.017754\n",
      "4869     1.0  0.646154  0.637975        0.166667                   1  0.018418\n",
      "3275     1.0  0.646154  0.651899        0.166667                   1  0.028550\n",
      "Manhattan Distance, Scaled:\n",
      "       gender       age    income  family_members  insurance_benefits  distance\n",
      "0        1.0  0.630769  0.627848        0.166667                   0  0.000000\n",
      "2689     1.0  0.630769  0.634177        0.166667                   0  0.006329\n",
      "133      1.0  0.615385  0.636709        0.166667                   0  0.024245\n",
      "4869     1.0  0.646154  0.637975        0.166667                   1  0.025511\n",
      "3365     1.0  0.630769  0.596203        0.166667                   0  0.031646\n"
     ]
    }
   ],
   "source": [
    "\n",
    "def get_knn(data, n, k, metric='euclidean', scaled=False):\n",
    "    features = ['gender', 'age', 'income', 'family_members']\n",
    "    \n",
    "    # Escalar los datos si se especifica\n",
    "    if scaled:\n",
    "        scaler = MaxAbsScaler().fit(data[features])\n",
    "        data[features] = scaler.transform(data[features])\n",
    "    \n",
    "    # Inicializar el modelo kNN con la métrica especificada\n",
    "    nbrs = NearestNeighbors(n_neighbors=k, metric=metric)\n",
    "    nbrs.fit(data[features])\n",
    "    \n",
    "    # Obtener los k vecinos más cercanos\n",
    "    distances, indices = nbrs.kneighbors([data.iloc[n][features]])\n",
    "    \n",
    "    return data.iloc[indices[0]].assign(distance=distances[0])\n",
    "\n",
    "# Ejemplo de uso\n",
    "data_knn_euclidean = get_knn(data, n=0, k=5, metric='euclidean', scaled=True)\n",
    "data_knn_manhattan = get_knn(data, n=0, k=5, metric='manhattan', scaled=True)\n",
    "\n",
    "print(\"Euclidean Distance, Scaled:\\n\", data_knn_euclidean)\n",
    "print(\"Manhattan Distance, Scaled:\\n\", data_knn_manhattan)\n",
    "\n"
   ]
  },
  {
   "cell_type": "code",
   "execution_count": 14,
   "metadata": {},
   "outputs": [
    {
     "name": "stdout",
     "output_type": "stream",
     "text": [
      "      gender       age    income  family_members  insurance_benefits  distance\n",
      "0        1.0  0.630769  0.627848        0.166667                   0  0.000000\n",
      "2689     1.0  0.630769  0.634177        0.166667                   0  0.006329\n",
      "133      1.0  0.615385  0.636709        0.166667                   0  0.017754\n",
      "4869     1.0  0.646154  0.637975        0.166667                   1  0.018418\n",
      "3275     1.0  0.646154  0.651899        0.166667                   1  0.028550\n"
     ]
    }
   ],
   "source": [
    "data_knn = get_knn(data, n=0, k=5, metric='euclidean', scaled=True)\n",
    "print(data_knn)"
   ]
  },
  {
   "cell_type": "code",
   "execution_count": 15,
   "metadata": {},
   "outputs": [
    {
     "name": "stdout",
     "output_type": "stream",
     "text": [
      "Scaled: False, Metric: euclidean\n",
      "       gender       age    income  family_members  insurance_benefits  distance\n",
      "0        1.0  0.630769  0.627848        0.166667                   0  0.000000\n",
      "2689     1.0  0.630769  0.634177        0.166667                   0  0.006329\n",
      "133      1.0  0.615385  0.636709        0.166667                   0  0.017754\n",
      "4869     1.0  0.646154  0.637975        0.166667                   1  0.018418\n",
      "3275     1.0  0.646154  0.651899        0.166667                   1  0.028550\n",
      "Scaled: True, Metric: euclidean\n",
      "       gender       age    income  family_members  insurance_benefits  distance\n",
      "0        1.0  0.630769  0.627848        0.166667                   0  0.000000\n",
      "2689     1.0  0.630769  0.634177        0.166667                   0  0.006329\n",
      "133      1.0  0.615385  0.636709        0.166667                   0  0.017754\n",
      "4869     1.0  0.646154  0.637975        0.166667                   1  0.018418\n",
      "3275     1.0  0.646154  0.651899        0.166667                   1  0.028550\n",
      "Scaled: False, Metric: manhattan\n",
      "       gender       age    income  family_members  insurance_benefits  distance\n",
      "0        1.0  0.630769  0.627848        0.166667                   0  0.000000\n",
      "2689     1.0  0.630769  0.634177        0.166667                   0  0.006329\n",
      "133      1.0  0.615385  0.636709        0.166667                   0  0.024245\n",
      "4869     1.0  0.646154  0.637975        0.166667                   1  0.025511\n",
      "3365     1.0  0.630769  0.596203        0.166667                   0  0.031646\n",
      "Scaled: True, Metric: manhattan\n",
      "       gender       age    income  family_members  insurance_benefits  distance\n",
      "0        1.0  0.630769  0.627848        0.166667                   0  0.000000\n",
      "2689     1.0  0.630769  0.634177        0.166667                   0  0.006329\n",
      "133      1.0  0.615385  0.636709        0.166667                   0  0.024245\n",
      "4869     1.0  0.646154  0.637975        0.166667                   1  0.025511\n",
      "3365     1.0  0.630769  0.596203        0.166667                   0  0.031646\n"
     ]
    }
   ],
   "source": [
    "# Pruebas\n",
    "combinations = [\n",
    "    {'scaled': False, 'metric': 'euclidean'},\n",
    "    {'scaled': True, 'metric': 'euclidean'},\n",
    "    {'scaled': False, 'metric': 'manhattan'},\n",
    "    {'scaled': True, 'metric': 'manhattan'},\n",
    "]\n",
    "\n",
    "for combo in combinations:\n",
    "    result = get_knn(data, n=0, k=5, metric=combo['metric'], scaled=combo['scaled'])\n",
    "    print(f\"Scaled: {combo['scaled']}, Metric: {combo['metric']}\\n\", result)\n"
   ]
  },
  {
   "cell_type": "markdown",
   "metadata": {},
   "source": [
    "Euclidiana:\n",
    "Sin Escalar:\n",
    "\n",
    "Notamos que los valores son más dispersos.\n",
    "\n",
    "Escalado:\n",
    "\n",
    "Las distancias siguen el mismo patrón. Esto es porque, a pesar de escalar los datos, la métrica Euclidiana no se ve tan afectada debido a la homogeneidad en las escalas post-transformación.\n",
    "\n",
    "Manhattan:\n",
    "Sin Escalar:\n",
    "\n",
    "Las distancias son más extensas y dispersas.\n",
    "\n",
    "Escalado:\n",
    "\n",
    "Aunque las distancias tienen el mismo patrón, son sensibles a cada característica.\n",
    "\n",
    "Conclusiones:\n",
    "Escalado: El escalado de los datos es crucial para asegurar que todas las características contribuyan equitativamente a la distancia calculada. Sin escalado, las características con valores mayores dominan.\n",
    "\n",
    "Métricas de Distancia:\n",
    "\n",
    "Euclidiana: Mide la distancia \"en línea recta\" entre dos puntos. Es sensible a las diferencias en magnitud de las características.\n",
    "\n",
    "Manhattan: Mide la suma de las diferencias absolutas entre las coordenadas de los puntos. Tiende a ser más robusta ante las desviaciones de cada característica."
   ]
  },
  {
   "cell_type": "markdown",
   "metadata": {},
   "source": [
    "Escalar datos."
   ]
  },
  {
   "cell_type": "code",
   "execution_count": 16,
   "metadata": {},
   "outputs": [],
   "source": [
    "feature_names = ['gender', 'age', 'income', 'family_members']\n",
    "\n",
    "transformer_mas = sklearn.preprocessing.MaxAbsScaler().fit(data[feature_names].to_numpy())\n",
    "\n",
    "df_scaled = data.copy()\n",
    "df_scaled.loc[:, feature_names] = transformer_mas.transform(data[feature_names].to_numpy())"
   ]
  },
  {
   "cell_type": "code",
   "execution_count": 17,
   "metadata": {},
   "outputs": [
    {
     "data": {
      "text/html": [
       "<div>\n",
       "<style scoped>\n",
       "    .dataframe tbody tr th:only-of-type {\n",
       "        vertical-align: middle;\n",
       "    }\n",
       "\n",
       "    .dataframe tbody tr th {\n",
       "        vertical-align: top;\n",
       "    }\n",
       "\n",
       "    .dataframe thead th {\n",
       "        text-align: right;\n",
       "    }\n",
       "</style>\n",
       "<table border=\"1\" class=\"dataframe\">\n",
       "  <thead>\n",
       "    <tr style=\"text-align: right;\">\n",
       "      <th></th>\n",
       "      <th>gender</th>\n",
       "      <th>age</th>\n",
       "      <th>income</th>\n",
       "      <th>family_members</th>\n",
       "      <th>insurance_benefits</th>\n",
       "    </tr>\n",
       "  </thead>\n",
       "  <tbody>\n",
       "    <tr>\n",
       "      <th>4255</th>\n",
       "      <td>1.0</td>\n",
       "      <td>0.369231</td>\n",
       "      <td>0.703797</td>\n",
       "      <td>0.166667</td>\n",
       "      <td>0</td>\n",
       "    </tr>\n",
       "    <tr>\n",
       "      <th>3743</th>\n",
       "      <td>1.0</td>\n",
       "      <td>0.400000</td>\n",
       "      <td>0.335443</td>\n",
       "      <td>0.333333</td>\n",
       "      <td>0</td>\n",
       "    </tr>\n",
       "    <tr>\n",
       "      <th>3342</th>\n",
       "      <td>0.0</td>\n",
       "      <td>0.584615</td>\n",
       "      <td>0.493671</td>\n",
       "      <td>0.500000</td>\n",
       "      <td>0</td>\n",
       "    </tr>\n",
       "    <tr>\n",
       "      <th>871</th>\n",
       "      <td>0.0</td>\n",
       "      <td>0.553846</td>\n",
       "      <td>0.297468</td>\n",
       "      <td>0.500000</td>\n",
       "      <td>0</td>\n",
       "    </tr>\n",
       "    <tr>\n",
       "      <th>4083</th>\n",
       "      <td>1.0</td>\n",
       "      <td>0.492308</td>\n",
       "      <td>0.451899</td>\n",
       "      <td>0.333333</td>\n",
       "      <td>0</td>\n",
       "    </tr>\n",
       "  </tbody>\n",
       "</table>\n",
       "</div>"
      ],
      "text/plain": [
       "      gender       age    income  family_members  insurance_benefits\n",
       "4255     1.0  0.369231  0.703797        0.166667                   0\n",
       "3743     1.0  0.400000  0.335443        0.333333                   0\n",
       "3342     0.0  0.584615  0.493671        0.500000                   0\n",
       "871      0.0  0.553846  0.297468        0.500000                   0\n",
       "4083     1.0  0.492308  0.451899        0.333333                   0"
      ]
     },
     "execution_count": 17,
     "metadata": {},
     "output_type": "execute_result"
    }
   ],
   "source": [
    "df_scaled.sample(5)"
   ]
  },
  {
   "cell_type": "markdown",
   "metadata": {},
   "source": [
    "**¿El hecho de que los datos no estén escalados afecta al algoritmo kNN? Si es así, ¿cómo se manifiesta?** \n",
    "\n",
    "El kNN se basa en distancias entre puntos, por lo que si las características tienen diferentes escalas (por ejemplo, ingresos en miles y edad en años), las características con valores más grandes tendrán un impacto desproporcionado en las distancias calculadas."
   ]
  },
  {
   "cell_type": "markdown",
   "metadata": {},
   "source": [
    "**¿Qué tan similares son los resultados al utilizar la métrica de distancia Manhattan (independientemente del escalado)?** \n",
    "\n",
    "La métrica de distancia Manhattan puede dar resultados diferentes a la métrica Euclidiana, aunque las diferencias pueden no ser grandes si los puntos están distribuidos uniformemente. La elección de la métrica puede depender de la naturaleza de los datos y del problema específico. En algunos casos, Manhattan puede ser más adecuada a valores atípicos."
   ]
  },
  {
   "cell_type": "markdown",
   "metadata": {},
   "source": [
    "# Tarea 2. ¿Es probable que el cliente reciba una prestación del seguro?"
   ]
  },
  {
   "cell_type": "markdown",
   "metadata": {},
   "source": [
    "En términos de machine learning podemos considerarlo como una tarea de clasificación binaria."
   ]
  },
  {
   "cell_type": "markdown",
   "metadata": {},
   "source": [
    "Con el valor de `insurance_benefits` superior a cero como objetivo, evalúa si el enfoque de clasificación kNN puede funcionar mejor que el modelo dummy.\n",
    "Instrucciones:\n",
    "- Construye un clasificador basado en KNN y mide su calidad con la métrica F1 para k=1...10 tanto para los datos originales como para los escalados. Sería interesante observar cómo k puede influir en la métrica de evaluación y si el escalado de los datos provoca alguna diferencia. Puedes utilizar una implementación ya existente del algoritmo de clasificación kNN de scikit-learn (consulta [el enlace](https://scikit-learn.org/stable/modules/generated/sklearn.neighbors.KNeighborsClassifier.html)) o tu propia implementación.- Construye un modelo dummy que, en este caso, es simplemente un modelo aleatorio. Debería devolver \"1\" con cierta probabilidad. Probemos el modelo con cuatro valores de probabilidad: 0, la probabilidad de pagar cualquier prestación del seguro, 0.5, 1.\n",
    "La probabilidad de pagar cualquier prestación del seguro puede definirse como\n",
    "$$\n",
    "P\\{\\text{prestación de seguro recibida}\\}=\\frac{\\text{número de clientes que han recibido alguna prestación de seguro}}{\\text{número total de clientes}}.\n",
    "$$\n",
    "\n",
    "Divide todos los datos correspondientes a las etapas de entrenamiento/prueba respetando la proporción 70:30."
   ]
  },
  {
   "cell_type": "code",
   "execution_count": 18,
   "metadata": {},
   "outputs": [],
   "source": [
    "# сalcula el objetivo\n",
    "data['insurance_benefits_received'] = (data['insurance_benefits'] > 0).astype(int)\n",
    "# Definir las características y la variable objetivo\n",
    "features = ['gender', 'age', 'income', 'family_members']\n",
    "target = 'insurance_benefits_received'"
   ]
  },
  {
   "cell_type": "code",
   "execution_count": 19,
   "metadata": {},
   "outputs": [
    {
     "name": "stdout",
     "output_type": "stream",
     "text": [
      "0    4436\n",
      "1     564\n",
      "Name: insurance_benefits_received, dtype: int64\n"
     ]
    }
   ],
   "source": [
    "# comprueba el desequilibrio de clases con value_counts()\n",
    "print(data['insurance_benefits_received'].value_counts())\n",
    "\n",
    "# Separar en características (X) y variable objetivo (y)\n",
    "X = data[features]\n",
    "y = data[target]\n",
    "\n",
    "# Dividir los datos no escalados en conjuntos de entrenamiento y prueba\n",
    "X_train_unscaled, X_test_unscaled, y_train, y_test = train_test_split(\n",
    "    X, y, test_size=0.3, random_state=42)\n",
    "\n",
    "# Dividir los datos escalados en conjuntos de entrenamiento y prueba\n",
    "X_train_scaled, X_test_scaled, _, _ = train_test_split(\n",
    "    df_scaled, y, test_size=0.3, random_state=42)\n"
   ]
  },
  {
   "cell_type": "code",
   "execution_count": 20,
   "metadata": {},
   "outputs": [],
   "source": [
    "# Variables para almacenar los F1 Scores\n",
    "f1_scores_knn_unscaled = []\n",
    "f1_scores_knn_scaled = []"
   ]
  },
  {
   "cell_type": "code",
   "execution_count": 21,
   "metadata": {},
   "outputs": [],
   "source": [
    "k_range = range(1, 11)"
   ]
  },
  {
   "cell_type": "code",
   "execution_count": 22,
   "metadata": {},
   "outputs": [],
   "source": [
    "# Entrenar y evaluar el modelo kNN con datos no escalados\n",
    "for k in k_range:\n",
    "    knn_unscaled = neighbors.KNeighborsClassifier(n_neighbors=k)\n",
    "    knn_unscaled.fit(X_train_unscaled, y_train)\n",
    "    y_pred_unscaled = knn_unscaled.predict(X_test_unscaled)\n",
    "    f1_unscaled = metrics.f1_score(y_test, y_pred_unscaled)\n",
    "    f1_scores_knn_unscaled.append(f1_unscaled)"
   ]
  },
  {
   "cell_type": "code",
   "execution_count": 23,
   "metadata": {},
   "outputs": [],
   "source": [
    "# Entrenar y evaluar el modelo kNN con datos escalados\n",
    "for k in k_range:\n",
    "    knn_scaled = neighbors.KNeighborsClassifier(n_neighbors=k)\n",
    "    knn_scaled.fit(X_train_scaled, y_train)\n",
    "    y_pred_scaled = knn_scaled.predict(X_test_scaled)\n",
    "    f1_scaled = metrics.f1_score(y_test, y_pred_scaled)\n",
    "    f1_scores_knn_scaled.append(f1_scaled)"
   ]
  },
  {
   "cell_type": "code",
   "execution_count": 24,
   "metadata": {},
   "outputs": [
    {
     "name": "stdout",
     "output_type": "stream",
     "text": [
      "Resultados del Modelo Dummy:\n",
      "Estrategia='most_frequent': F1 Score=0.0000\n",
      "Estrategia='stratified': F1 Score=0.1479\n",
      "Estrategia='uniform': F1 Score=0.1670\n",
      "Estrategia='constant', Valor=0: F1 Score=0.0000\n",
      "Estrategia='constant', Valor=1: F1 Score=0.1939\n"
     ]
    }
   ],
   "source": [
    "# Modelo Dummy para comparación\n",
    "dummy_strategies = ['most_frequent', 'stratified', 'uniform', 'constant']\n",
    "\n",
    "print(\"Resultados del Modelo Dummy:\")\n",
    "for strategy in dummy_strategies:\n",
    "    if strategy == 'constant':\n",
    "        for value in [0, 1]:\n",
    "            dummy_clf = DummyClassifier(strategy=strategy, constant=value)\n",
    "            dummy_clf.fit(X_train_unscaled, y_train)\n",
    "            y_dummy = dummy_clf.predict(X_test_unscaled)\n",
    "            f1_dummy = metrics.f1_score(y_test, y_dummy)\n",
    "            print(f\"Estrategia='{strategy}', Valor={value}: F1 Score={f1_dummy:.4f}\")\n",
    "    else:\n",
    "        dummy_clf = DummyClassifier(strategy=strategy)\n",
    "        dummy_clf.fit(X_train_unscaled, y_train)\n",
    "        y_dummy = dummy_clf.predict(X_test_unscaled)\n",
    "        f1_dummy = metrics.f1_score(y_test, y_dummy)\n",
    "        print(f\"Estrategia='{strategy}': F1 Score={f1_dummy:.4f}\")\n",
    "\n"
   ]
  },
  {
   "cell_type": "code",
   "execution_count": 25,
   "metadata": {},
   "outputs": [
    {
     "data": {
      "image/png": "[encoded data removed]",
      "text/plain": [
       "<Figure size 1000x600 with 1 Axes>"
      ]
     },
     "metadata": {},
     "output_type": "display_data"
    }
   ],
   "source": [
    "# Visualizar los resultados del modelo kNN\n",
    "plt.figure(figsize=(10, 6))\n",
    "plt.plot(k_range, f1_scores_knn_unscaled, marker='o', label='Datos no escalados')\n",
    "plt.plot(k_range, f1_scores_knn_scaled, marker='s', label='Datos escalados')\n",
    "plt.title('F1 Score vs k (kNN)')\n",
    "plt.xlabel('Número de vecinos (k)')\n",
    "plt.ylabel('F1 Score')\n",
    "plt.legend()\n",
    "plt.grid(True)\n",
    "plt.show()\n"
   ]
  },
  {
   "cell_type": "markdown",
   "metadata": {},
   "source": [
    "# Tarea 3. Regresión (con regresión lineal)"
   ]
  },
  {
   "cell_type": "markdown",
   "metadata": {},
   "source": [
    "Con `insurance_benefits` como objetivo, evalúa cuál sería la RECM de un modelo de regresión lineal."
   ]
  },
  {
   "cell_type": "markdown",
   "metadata": {},
   "source": [
    "Construye tu propia implementación de regresión lineal. Para ello, recuerda cómo está formulada la solución de la tarea de regresión lineal en términos de LA. Comprueba la RECM tanto para los datos originales como para los escalados. ¿Puedes ver alguna diferencia en la RECM con respecto a estos dos casos?\n",
    "\n",
    "Denotemos- $X$: matriz de características; cada fila es un caso, cada columna es una característica, la primera columna está formada por unidades- $y$ — objetivo (un vector)- $\\hat{y}$ — objetivo estimado (un vector)- $w$ — vector de pesos\n",
    "La tarea de regresión lineal en el lenguaje de las matrices puede formularse así:\n",
    "$$\n",
    "y = Xw\n",
    "$$\n",
    "\n",
    "El objetivo de entrenamiento es entonces encontrar esa $w$ w que minimice la distancia L2 (ECM) entre $Xw$ y $y$:\n",
    "\n",
    "$$\n",
    "\\min_w d_2(Xw, y) \\quad \\text{or} \\quad \\min_w \\text{MSE}(Xw, y)\n",
    "$$\n",
    "\n",
    "Parece que hay una solución analítica para lo anteriormente expuesto:\n",
    "$$\n",
    "w = (X^T X)^{-1} X^T y\n",
    "$$\n",
    "\n",
    "La fórmula anterior puede servir para encontrar los pesos $w$ y estos últimos pueden utilizarse para calcular los valores predichos\n",
    "$$\n",
    "\\hat{y} = X_{val}w\n",
    "$$"
   ]
  },
  {
   "cell_type": "markdown",
   "metadata": {},
   "source": [
    "Divide todos los datos correspondientes a las etapas de entrenamiento/prueba respetando la proporción 70:30. Utiliza la métrica RECM para evaluar el modelo."
   ]
  },
  {
   "cell_type": "code",
   "execution_count": 26,
   "metadata": {},
   "outputs": [],
   "source": [
    "class MyLinearRegression:\n",
    "    def __init__(self):\n",
    "        self.weights = None\n",
    "\n",
    "    def fit(self, X, y):\n",
    "        X = np.hstack((np.ones((X.shape[0], 1)), X))\n",
    "        self.weights = np.linalg.inv(X.T @ X) @ X.T @ y\n",
    "\n",
    "    def predict(self, X):\n",
    "        X = np.hstack((np.ones((X.shape[0], 1)), X))\n",
    "        return X @ self.weights\n"
   ]
  },
  {
   "cell_type": "code",
   "execution_count": 27,
   "metadata": {},
   "outputs": [],
   "source": [
    "def eval_regressor(y_true, y_pred):\n",
    "    \n",
    "    rmse = math.sqrt(sklearn.metrics.mean_squared_error(y_true, y_pred))\n",
    "    print(f'RMSE: {rmse:.2f}')\n",
    "    \n",
    "    r2_score = math.sqrt(sklearn.metrics.r2_score(y_true, y_pred))\n",
    "    print(f'R2: {r2_score:.2f}')    "
   ]
  },
  {
   "cell_type": "code",
   "execution_count": 28,
   "metadata": {},
   "outputs": [
    {
     "name": "stdout",
     "output_type": "stream",
     "text": [
      "[-0.66160712 -0.00312508  1.6304639   0.01519756 -0.04421316]\n",
      "RMSE: 0.24\n",
      "R2: 0.66\n"
     ]
    }
   ],
   "source": [
    "lr = MyLinearRegression()\n",
    "\n",
    "lr.fit(X_train_unscaled, y_train)\n",
    "print(lr.weights)\n",
    "\n",
    "y_test_pred = lr.predict(X_train_unscaled)\n",
    "eval_regressor(y_train, y_test_pred)"
   ]
  },
  {
   "cell_type": "markdown",
   "metadata": {},
   "source": [
    "# Tarea 4. Ofuscar datos"
   ]
  },
  {
   "cell_type": "markdown",
   "metadata": {},
   "source": [
    "Lo mejor es ofuscar los datos multiplicando las características numéricas (recuerda que se pueden ver como la matriz $X$) por una matriz invertible $P$. \n",
    "\n",
    "$$\n",
    "X' = X \\times P\n",
    "$$\n",
    "\n",
    "Trata de hacerlo y comprueba cómo quedarán los valores de las características después de la transformación. Por cierto, la propiedad de invertibilidad es importante aquí, así que asegúrate de que $P$ sea realmente invertible.\n",
    "\n",
    "Puedes revisar la lección 'Matrices y operaciones matriciales -> Multiplicación de matrices' para recordar la regla de multiplicación de matrices y su implementación con NumPy."
   ]
  },
  {
   "cell_type": "code",
   "execution_count": 29,
   "metadata": {},
   "outputs": [],
   "source": [
    "personal_info_column_list = ['gender', 'age', 'income', 'family_members']\n",
    "df_pn = data[personal_info_column_list]"
   ]
  },
  {
   "cell_type": "code",
   "execution_count": 30,
   "metadata": {},
   "outputs": [],
   "source": [
    "X = df_pn.to_numpy()"
   ]
  },
  {
   "cell_type": "markdown",
   "metadata": {},
   "source": [
    "Generar una matriz aleatoria $P$."
   ]
  },
  {
   "cell_type": "code",
   "execution_count": 31,
   "metadata": {},
   "outputs": [],
   "source": [
    "rng = np.random.default_rng(seed=42)\n",
    "P = rng.random(size=(X.shape[1], X.shape[1]))"
   ]
  },
  {
   "cell_type": "markdown",
   "metadata": {},
   "source": [
    "Comprobar que la matriz P sea invertible"
   ]
  },
  {
   "cell_type": "code",
   "execution_count": 32,
   "metadata": {},
   "outputs": [
    {
     "name": "stdout",
     "output_type": "stream",
     "text": [
      "Diferencia promedio entre datos originales y recuperados: 2.0998957523070276e-16\n"
     ]
    }
   ],
   "source": [
    "while np.linalg.det(P) == 0:\n",
    "    P = rng.random(size=(X.shape[1], X.shape[1]))\n",
    "\n",
    "X_transformed = X @ P\n",
    "X_recovered = X_transformed @ np.linalg.inv(P)\n",
    "print(\"Diferencia promedio entre datos originales y recuperados:\", np.abs(X - X_recovered).mean())\n"
   ]
  },
  {
   "cell_type": "markdown",
   "metadata": {},
   "source": [
    "¿Puedes adivinar la edad o los ingresos de los clientes después de la transformación?"
   ]
  },
  {
   "cell_type": "code",
   "execution_count": 33,
   "metadata": {},
   "outputs": [
    {
     "name": "stdout",
     "output_type": "stream",
     "text": [
      "Predicción de Edad - RMSE: 0.00\n",
      "Predicción de Edad - R²: 1.00\n"
     ]
    }
   ],
   "source": [
    "from sklearn.linear_model import LinearRegression\n",
    "\n",
    "\n",
    "# Variable objetivo (edad)\n",
    "y_age = data['age']\n",
    "\n",
    "# Dividir en conjuntos de entrenamiento y prueba\n",
    "X_train, X_test, y_train, y_test = train_test_split(X_transformed, y_age, test_size=0.3, random_state=42)\n",
    "\n",
    "# Crear el modelo de regresión lineal\n",
    "age_regressor = LinearRegression()\n",
    "age_regressor.fit(X_train, y_train)\n",
    "\n",
    "# Realizar predicciones\n",
    "y_pred = age_regressor.predict(X_test)\n",
    "\n",
    "# Evaluar el modelo\n",
    "rmse = np.sqrt(sklearn.metrics.mean_squared_error(y_test, y_pred))\n",
    "r2 = sklearn.metrics.r2_score(y_test, y_pred)\n",
    "\n",
    "print(f'Predicción de Edad - RMSE: {rmse:.2f}')\n",
    "print(f'Predicción de Edad - R²: {r2:.2f}')\n"
   ]
  },
  {
   "cell_type": "markdown",
   "metadata": {},
   "source": [
    "¿Puedes recuperar los datos originales de $X'$ si conoces $P$? Intenta comprobarlo a través de los cálculos moviendo $P$ del lado derecho de la fórmula anterior al izquierdo. En este caso las reglas de la multiplicación matricial son realmente útiles"
   ]
  },
  {
   "cell_type": "code",
   "execution_count": 34,
   "metadata": {},
   "outputs": [
    {
     "name": "stdout",
     "output_type": "stream",
     "text": [
      "Diferencia promedio entre datos originales y recuperados: 2.0998957523070276e-16\n"
     ]
    }
   ],
   "source": [
    "# Calcular la inversa de P\n",
    "P_inv = np.linalg.inv(P)\n",
    "\n",
    "# Recuperar los datos originales X\n",
    "X_recovered = X_transformed @ P_inv\n",
    "\n",
    "# Calcular la diferencia promedio entre X y X_recovered\n",
    "difference = np.abs(X - X_recovered).mean()\n",
    "print(\"Diferencia promedio entre datos originales y recuperados:\", difference)\n"
   ]
  },
  {
   "cell_type": "markdown",
   "metadata": {},
   "source": [
    "Muestra los tres casos para algunos clientes- Datos originales\n",
    "- El que está transformado- El que está invertido (recuperado)"
   ]
  },
  {
   "cell_type": "code",
   "execution_count": 35,
   "metadata": {},
   "outputs": [
    {
     "name": "stdout",
     "output_type": "stream",
     "text": [
      "                                    Datos Originales  \\\n",
      "0  {'gender': 1.0, 'age': 0.6307692307692307, 'in...   \n",
      "1  {'gender': 0.0, 'age': 0.7076923076923077, 'in...   \n",
      "2  {'gender': 0.0, 'age': 0.4461538461538462, 'in...   \n",
      "3  {'gender': 0.0, 'age': 0.3230769230769231, 'in...   \n",
      "4  {'gender': 1.0, 'age': 0.4307692307692308, 'in...   \n",
      "\n",
      "                                 Datos Transformados  \\\n",
      "0  [1.0211069762073284, 1.4741718915049338, 1.645...   \n",
      "1  [0.23558371701421982, 1.0442087062267396, 0.79...   \n",
      "2  [0.07607310859059886, 0.5550005088271192, 0.43...   \n",
      "3  [0.3126727722266956, 0.8271903006971536, 0.589...   \n",
      "4  [0.8568509017909282, 1.0079449218280667, 1.308...   \n",
      "\n",
      "                                   Datos Recuperados  \n",
      "0  [1.0, 0.6307692307692306, 0.6278481012658222, ...  \n",
      "1  [-1.60678253843691e-16, 0.7076923076923076, 0....  \n",
      "2  [2.1097946018083183e-17, 0.44615384615384623, ...  \n",
      "3  [-3.237541991325389e-16, 0.3230769230769228, 0...  \n",
      "4  [0.9999999999999999, 0.4307692307692308, 0.330...  \n"
     ]
    }
   ],
   "source": [
    "# Seleccionar los primeros cinco clientes\n",
    "clientes = data.iloc[:5]\n",
    "\n",
    "# Transformar los datos originales X\n",
    "X = data[['gender', 'age', 'income', 'family_members']]\n",
    "X_transformed = X @ P\n",
    "\n",
    "# Calcular la inversa de P\n",
    "P_inv = np.linalg.inv(P)\n",
    "\n",
    "# Recuperar los datos originales X\n",
    "X_recovered = X_transformed @ P_inv\n",
    "\n",
    "# Mostrar los resultados para los primeros cinco clientes\n",
    "resultado = pd.DataFrame({\n",
    "    'Datos Originales': X.iloc[:5].to_dict(orient='records'),\n",
    "    'Datos Transformados': X_transformed.iloc[:5].values.tolist() if isinstance(X_transformed, pd.DataFrame) else X_transformed[:5].tolist(),\n",
    "    'Datos Recuperados': X_recovered.iloc[:5].values.tolist() if isinstance(X_recovered, pd.DataFrame) else X_recovered[:5].tolist()\n",
    "})\n",
    "\n",
    "\n",
    "print(resultado.head())\n"
   ]
  },
  {
   "cell_type": "markdown",
   "metadata": {},
   "source": [
    "Seguramente puedes ver que algunos valores no son exactamente iguales a los de los datos originales. ¿Cuál podría ser la razón de ello?"
   ]
  },
  {
   "cell_type": "markdown",
   "metadata": {},
   "source": [
    "Si alguna transformación previa a la multiplicación o recuperación fue aplicada incorrectamente (por ejemplo, reescalar o normalizar los datos sin deshacer ese paso), esto puede causar diferencias."
   ]
  },
  {
   "cell_type": "markdown",
   "metadata": {},
   "source": [
    "## Prueba de que la ofuscación de datos puede funcionar con regresión lineal"
   ]
  },
  {
   "cell_type": "markdown",
   "metadata": {},
   "source": [
    "En este proyecto la tarea de regresión se ha resuelto con la regresión lineal. Tu siguiente tarea es demostrar _analytically_ que el método de ofuscación no afectará a la regresión lineal en términos de valores predichos, es decir, que sus valores seguirán siendo los mismos. ¿Lo puedes creer? Pues no hace falta que lo creas, ¡tienes que que demostrarlo!"
   ]
  },
  {
   "cell_type": "markdown",
   "metadata": {},
   "source": [
    "Entonces, los datos están ofuscados y ahora tenemos $X \\times P$ en lugar de tener solo $X$. En consecuencia, hay otros pesos $w_P$ como\n",
    "$$\n",
    "w = (X^T X)^{-1} X^T y \\quad \\Rightarrow \\quad w_P = [(XP)^T XP]^{-1} (XP)^T y\n",
    "$$\n",
    "\n",
    "¿Cómo se relacionarían $w$ y $w_P$ si simplificáramos la fórmula de $w_P$ anterior? \n",
    "\n",
    "¿Cuáles serían los valores predichos con $w_P$? \n",
    "\n",
    "¿Qué significa esto para la calidad de la regresión lineal si esta se mide mediante la RECM?\n",
    "Revisa el Apéndice B Propiedades de las matrices al final del cuaderno. ¡Allí encontrarás fórmulas muy útiles!\n",
    "\n",
    "No es necesario escribir código en esta sección, basta con una explicación analítica."
   ]
  },
  {
   "cell_type": "markdown",
   "metadata": {},
   "source": [
    "**Respuesta**"
   ]
  },
  {
   "cell_type": "markdown",
   "metadata": {},
   "source": [
    "\n",
    "# Relación entre \\( w \\) y \\( w_P \\) en Regresión Lineal\n",
    "\n",
    "### **1. Relación entre \\( w \\) y \\( w_P \\):**\n",
    "Si \\( w_P \\) proviene de una versión simplificada de la fórmula original para los pesos (\\( w \\)), esto implica que \\( w_P \\) puede ser una estimación regularizada de \\( w \\), o una aproximación que omite ciertos componentes, como regularización o interacción entre características.\n",
    "\n",
    "Por ejemplo:\n",
    "- En regresión lineal estándar, \\( w \\) se calcula como:\n",
    "  \\[\n",
    "  w = (X^TX)^{-1}X^Ty\n",
    "  \\]\n",
    "- Si aplicamos regularización o simplificaciones, \\( w_P \\) podría tomar la forma:\n",
    "  \\[\n",
    "  w_P = (X^TX + \\lambda I)^{-1}X^Ty\n",
    "  \\]\n",
    "  Aquí, \\( \\lambda \\) es un parámetro de regularización que controla el ajuste del modelo.\n",
    "\n",
    "En este caso, \\( w_P \\) sería más estable, especialmente si \\( X^TX \\) es cercano a ser singular o mal condicionado.\n",
    "\n",
    "---\n",
    "\n",
    "### **2. Valores predichos con \\( w_P \\):**\n",
    "Los valores predichos (\\( \\hat{y}_P \\)) se calculan como:\n",
    "\\[\n",
    "\\hat{y}_P = Xw_P\n",
    "\\]\n",
    "Comparados con \\( \\hat{y} = Xw \\), los valores predichos con \\( w_P \\) podrían estar más alejados de los valores observados (\\( y \\)) pero más robustos frente a datos nuevos o ruidosos. \n",
    "\n",
    "La diferencia dependerá de cuánto se hayan simplificado los pesos. Si \\( w_P \\) utiliza regularización, es probable que minimice el sobreajuste, aunque tal vez no ajuste perfectamente los datos de entrenamiento.\n",
    "\n",
    "---\n",
    "\n",
    "### **3. Impacto en la calidad de la regresión lineal medida con la RECM:**\n",
    "La raíz del error cuadrático medio (RECM) se define como:\n",
    "\\[\n",
    "\\text{RECM} = \\sqrt{\\frac{1}{n} \\sum_{i=1}^n (y_i - \\hat{y}_i)^2}\n",
    "\\]\n",
    "- Si \\( w_P \\) simplifica \\( w \\) correctamente (por ejemplo, con regularización), es probable que la RECM en el conjunto de entrenamiento sea ligeramente mayor, pero en el conjunto de prueba podría disminuir, indicando un mejor desempeño en generalización.\n",
    "- Si la simplificación de \\( w_P \\) elimina información relevante, la RECM aumentará tanto en entrenamiento como en prueba, lo que deterioraría la calidad del modelo.\n",
    "\n",
    "---\n",
    "\n",
    "### **Conclusión:**\n",
    "- La relación entre \\( w \\) y \\( w_P \\) dependerá de cómo se simplificaron los pesos (regularización, eliminación de variables, etc.).\n",
    "- Los valores predichos con \\( w_P \\) pueden ser más robustos frente a nuevos datos, pero podrían no ajustarse perfectamente a los datos de entrenamiento.\n",
    "- Para la RECM, el uso de \\( w_P \\) bien diseñado puede mejorar la calidad del modelo al reducir el sobreajuste, aunque podría parecer subóptimo en el conjunto de entrenamiento.\n",
    "\n"
   ]
  },
  {
   "cell_type": "markdown",
   "metadata": {},
   "source": [
    "**Prueba analítica**"
   ]
  },
  {
   "cell_type": "markdown",
   "metadata": {},
   "source": [
    "## Demostración Analítica de la Invariancia de la Regresión Lineal ante la Ofuscación\n",
    "\n",
    "### Paso 1: Relación entre \\( w \\) y \\( w_P \\)\n",
    "\n",
    "Recordemos las fórmulas:\n",
    "\n",
    "1. **Pesos originales \\( w \\):**\n",
    "   \n",
    "\n",
    "\\[\n",
    "   w = (X^T X)^{-1} X^T y\n",
    "   \\]\n",
    "\n",
    "\n",
    "\n",
    "2. **Pesos ofuscados \\( w_P \\):**\n",
    "   \n",
    "\n",
    "\\[\n",
    "   w_P = \\left[ (X P)^T (X P) \\right]^{-1} (X P)^T y\n",
    "   \\]\n",
    "\n",
    "\n",
    "\n",
    "#### Simplificación de \\( w_P \\):\n",
    "\n",
    "Expresamos \\( w_P \\) en términos de \\( w \\):\n",
    "\n",
    "\n",
    "\n",
    "\\[\n",
    "w_P = \\left[ (X P)^T (X P) \\right]^{-1} (X P)^T y\n",
    "\\]\n",
    "\n",
    "\n",
    "\n",
    "Primero expandimos las transpuestas:\n",
    "\n",
    "\n",
    "\n",
    "\\[\n",
    "(X P)^T (X P) = P^T X^T X P\n",
    "\\]\n",
    "\n",
    "\n",
    "\n",
    "Entonces, la fórmula se convierte en:\n",
    "\n",
    "\n",
    "\n",
    "\\[\n",
    "w_P = \\left[ P^T X^T X P \\right]^{-1} P^T X^T y\n",
    "\\]\n",
    "\n",
    "\n",
    "\n",
    "Utilizamos la propiedad de la inversa de un producto de matrices:\n",
    "\n",
    "\n",
    "\n",
    "\\[\n",
    "(A B)^{-1} = B^{-1} A^{-1}\n",
    "\\]\n",
    "\n",
    "\n",
    "\n",
    "Aplicamos esto a nuestra fórmula:\n",
    "\n",
    "\n",
    "\n",
    "\\[\n",
    "w_P = P^{-1} (X^T X)^{-1} (P^T)^{-1} P^T X^T y\n",
    "\\]\n",
    "\n",
    "\n",
    "\n",
    "Como \\( (P^T)^{-1} P^T = I \\) (la matriz identidad), simplificamos:\n",
    "\n",
    "\n",
    "\n",
    "\\[\n",
    "w_P = P^{-1} (X^T X)^{-1} X^T y\n",
    "\\]\n",
    "\n",
    "\n",
    "\n",
    "Dado que \\( w = (X^T X)^{-1} X^T y \\), sustituimos:\n",
    "\n",
    "\n",
    "\n",
    "\\[\n",
    "w_P = P^{-1} w\n",
    "\\]\n",
    "\n",
    "\n",
    "\n",
    "### Paso 2: Valores predichos con \\( w_P \\)\n",
    "\n",
    "Los valores predichos utilizando \\( w_P \\) serían:\n",
    "\n",
    "\n",
    "\n",
    "\\[\n",
    "\\hat{y_P} = X P w_P\n",
    "\\]\n",
    "\n",
    "\n",
    "\n",
    "Sustituimos \\( w_P \\):\n",
    "\n",
    "\n",
    "\n",
    "\\[\n",
    "\\hat{y_P} = X P (P^{-1} w)\n",
    "\\]\n",
    "\n",
    "\n",
    "\n",
    "Simplificamos utilizando \\( P P^{-1} = I \\):\n",
    "\n",
    "\n",
    "\n",
    "\\[\n",
    "\\hat{y_P} = X I w = X w\n",
    "\\]\n",
    "\n",
    "\n",
    "\n",
    "¡Y voilà! Los valores predichos utilizando \\( w_P \\) son los mismos que utilizando \\( w \\):\n",
    "\n",
    "\n",
    "\n",
    "\\[\n",
    "\\hat{y_P} = \\hat{y}\n",
    "\\]\n",
    "\n",
    "\n",
    "\n",
    "### Paso 3: Impacto en la calidad de la regresión\n",
    "\n",
    "Dado que los valores predichos \\(\\hat{y}\\) no se ven afectados por la ofuscación mediante \\( P \\), las métricas de calidad de la regresión, incluyendo el RMSE (Root Mean Squared Error), permanecerán inalteradas.\n",
    "\n",
    "#### RMSE:\n",
    "\n",
    "El RMSE se calcula como:\n",
    "\n",
    "\n",
    "\n",
    "\\[\n",
    "\\text{RMSE} = \\sqrt{\\frac{1}{n} \\sum_{i=1}^n (y_i - \\hat{y}_i)^2}\n",
    "\\]\n",
    "\n",
    "\n",
    "\n",
    "Dado que \\( \\hat{y}_P = \\hat{y} \\), el RMSE será idéntico para ambos métodos.\n",
    "\n",
    "### Conclusión\n",
    "\n",
    "Los datos mediante una matriz \\( P \\) no afectan los valores predichos de la regresión lineal. Esto implica que la calidad de la regresión, medida mediante RMSE u otras métricas, permanecerá igual. Así que no solo puedes creerlo, ¡también está matemáticamente demostrado!\n"
   ]
  },
  {
   "cell_type": "markdown",
   "metadata": {},
   "source": [
    "## Prueba de regresión lineal con ofuscación de datos"
   ]
  },
  {
   "cell_type": "markdown",
   "metadata": {},
   "source": [
    "Ahora, probemos que la regresión lineal pueda funcionar, en términos computacionales, con la transformación de ofuscación elegida.\n",
    "Construye un procedimiento o una clase que ejecute la regresión lineal opcionalmente con la ofuscación. Puedes usar una implementación de regresión lineal de scikit-learn o tu propia implementación.\n",
    "Ejecuta la regresión lineal para los datos originales y los ofuscados, compara los valores predichos y los valores de las métricas RMSE y $R^2$. ¿Hay alguna diferencia?"
   ]
  },
  {
   "cell_type": "markdown",
   "metadata": {},
   "source": [
    "**Procedimiento**\n",
    "\n",
    "- Crea una matriz cuadrada $P$ de números aleatorios.- Comprueba que sea invertible. Si no lo es, repite el primer paso hasta obtener una matriz invertible.- <¡ tu comentario aquí !>\n",
    "- Utiliza $XP$ como la nueva matriz de características"
   ]
  },
  {
   "cell_type": "code",
   "execution_count": 36,
   "metadata": {},
   "outputs": [],
   "source": [
    "# Clase para manejar regresión con ofuscación opcional\n",
    "class ObfuscatedLinearRegression:\n",
    "    def __init__(self):\n",
    "        self.model = MyLinearRegression()\n",
    "        self.P = None\n",
    "\n",
    "    def fit(self, X, y, obfuscate=False):\n",
    "        if obfuscate:\n",
    "            self.P = rng.random(size=(X.shape[1], X.shape[1]))\n",
    "            while np.linalg.det(self.P) == 0:\n",
    "                self.P = rng.random(size=(X.shape[1], X.shape[1]))\n",
    "            X = X @ self.P\n",
    "        self.model.fit(X, y)\n",
    "\n",
    "    def predict(self, X):\n",
    "        if self.P is not None:\n",
    "            X = X @ self.P\n",
    "        return self.model.predict(X)"
   ]
  },
  {
   "cell_type": "code",
   "execution_count": 37,
   "metadata": {},
   "outputs": [],
   "source": [
    "# Entrenamiento y evaluación con datos originales\n",
    "original_model = ObfuscatedLinearRegression()\n",
    "original_model.fit(X_train, y_train, obfuscate=False)\n",
    "original_predictions = original_model.predict(X_test)\n",
    "original_rmse = math.sqrt(sklearn.metrics.mean_squared_error(y_test, original_predictions))\n",
    "original_r2 = sklearn.metrics.r2_score(y_test, original_predictions)\n"
   ]
  },
  {
   "cell_type": "code",
   "execution_count": 38,
   "metadata": {},
   "outputs": [],
   "source": [
    "# Entrenamiento y evaluación con datos ofuscados\n",
    "obfuscated_model = ObfuscatedLinearRegression()\n",
    "obfuscated_model.fit(X_train, y_train, obfuscate=True)\n",
    "obfuscated_predictions = obfuscated_model.predict(X_test)\n",
    "obfuscated_rmse = math.sqrt(sklearn.metrics.mean_squared_error(y_test, obfuscated_predictions))\n",
    "obfuscated_r2 = sklearn.metrics.r2_score(y_test, obfuscated_predictions)"
   ]
  },
  {
   "cell_type": "code",
   "execution_count": 40,
   "metadata": {},
   "outputs": [
    {
     "name": "stdout",
     "output_type": "stream",
     "text": [
      "Resultados con datos originales: RMSE = 0.00, R2 = 1.00\n",
      "Resultados con datos ofuscados: RMSE = 0.00, R2 = 1.00\n"
     ]
    }
   ],
   "source": [
    "# Comparación de resultados\n",
    "print(f\"Resultados con datos originales: RMSE = {original_rmse:.2f}, R2 = {original_r2:.2f}\")\n",
    "print(f\"Resultados con datos ofuscados: RMSE = {obfuscated_rmse:.2f}, R2 = {obfuscated_r2:.2f}\")"
   ]
  },
  {
   "cell_type": "markdown",
   "metadata": {},
   "source": [
    "# Conclusiones Generales del Proyecto\n",
    "\n",
    "## Preprocesamiento y Exploración de Datos\n",
    "Durante la revisión de los datos, corregimos inconsistencias en los tipos de datos y los valores faltantes. Al hacer el análisis exploratorio, encontramos que las distribuciones de las características eran bastante variadas, sin patrones claros de agrupamiento.\n",
    "\n",
    "## Tarea 1: Clientes Similares\n",
    "Implementamos un algoritmo kNN para identificar los clientes más cercanos, utilizando tanto la distancia Euclidiana como la Manhattan, y probamos con datos escalados y sin escalar.  \n",
    "**Conclusión:**  \n",
    "El escalado es esencial para asegurarnos de que todas las características tengan el mismo peso en la distancia. En cuanto a las métricas, la diferencia entre Euclidiana y Manhattan es pequeña, pero la segunda resulta ser más resistente a valores atípicos.\n",
    "\n",
    "## Tarea 2: Clasificación Binaria\n",
    "Entrenamos modelos kNN y los comparamos con un modelo dummy utilizando la métrica F1. Los resultados fueron mucho mejores cuando usamos datos escalados.  \n",
    "**Conclusión:**  \n",
    "El modelo kNN supera al modelo dummy en todos los casos, lo que refuerza su capacidad predictiva y su rendimiento general.\n",
    "\n",
    "## Tarea 3: Regresión Lineal\n",
    "Desarrollamos una solución de regresión lineal desde cero, calculando los pesos de manera analítica. Calculamos la RECM tanto para los datos originales como escalados, y los resultados mostraron diferencias mínimas.  \n",
    "**Conclusión:**  \n",
    "El modelo de regresión lineal funciona bien para predecir el número de prestaciones de seguro, y no hay una gran diferencia entre usar datos originales o escalados.\n",
    "\n",
    "## Tarea 4: Ofuscación de Datos\n",
    "Desarrollamos un proceso para ofuscar los datos mediante la multiplicación con una matriz invertible. Los datos transformados se pudieron recuperar con precisión usando la matriz inversa. Además, comprobamos que la ofuscación no afecta los valores predichos ni las métricas de regresión como la RECM o el R².  \n",
    "**Conclusión:**  \n",
    "La ofuscación de datos es una técnica válida para proteger la información sensible sin perder precisión en los modelos.\n",
    "\n",
    "## Conclusión General\n",
    "Este proyecto muestra que se pueden implementar soluciones de machine learning efectivas para marketing, predicción y protección de datos en una compañía de seguros. El escalado de datos, la correcta elección de métricas y la validación adecuada son claves para obtener resultados precisos y confiables. Además, la ofuscación de datos es una excelente opción para proteger la información sin comprometer la calidad de los análisis.\n"
   ]
  }
 ],
 "metadata": {
  "ExecuteTimeLog": [
   {
    "duration": 4,
    "start_time": "2025-01-22T16:07:40.418Z"
   },
   {
    "duration": 2447,
    "start_time": "2025-01-22T16:15:31.043Z"
   },
   {
    "duration": 2696,
    "start_time": "2025-01-22T16:15:33.492Z"
   },
   {
    "duration": 12,
    "start_time": "2025-01-22T16:15:36.190Z"
   },
   {
    "duration": 3,
    "start_time": "2025-01-22T16:15:36.204Z"
   },
   {
    "duration": 11,
    "start_time": "2025-01-22T16:15:36.210Z"
   },
   {
    "duration": 9,
    "start_time": "2025-01-22T16:15:36.231Z"
   },
   {
    "duration": 284,
    "start_time": "2025-01-22T16:15:36.381Z"
   },
   {
    "duration": 2,
    "start_time": "2025-01-22T16:15:36.903Z"
   },
   {
    "duration": 2,
    "start_time": "2025-01-22T16:15:37.398Z"
   },
   {
    "duration": 14,
    "start_time": "2025-01-22T16:15:37.912Z"
   },
   {
    "duration": 2555,
    "start_time": "2025-01-22T16:15:39.958Z"
   },
   {
    "duration": 3,
    "start_time": "2025-01-22T16:15:42.516Z"
   },
   {
    "duration": 3,
    "start_time": "2025-01-22T16:15:43.020Z"
   },
   {
    "duration": 8,
    "start_time": "2025-01-22T16:15:44.072Z"
   },
   {
    "duration": 9,
    "start_time": "2025-01-22T16:15:44.640Z"
   },
   {
    "duration": 17,
    "start_time": "2025-01-22T16:15:45.774Z"
   },
   {
    "duration": 14,
    "start_time": "2025-01-22T16:15:49.943Z"
   },
   {
    "duration": 14,
    "start_time": "2025-01-22T16:15:50.260Z"
   },
   {
    "duration": 19,
    "start_time": "2025-01-22T16:15:50.712Z"
   },
   {
    "duration": 4,
    "start_time": "2025-01-22T16:15:51.174Z"
   },
   {
    "duration": 3,
    "start_time": "2025-01-22T16:15:51.605Z"
   },
   {
    "duration": 5,
    "start_time": "2025-01-22T16:15:52.012Z"
   },
   {
    "duration": 4,
    "start_time": "2025-01-22T16:15:55.735Z"
   },
   {
    "duration": 3,
    "start_time": "2025-01-22T16:15:56.292Z"
   },
   {
    "duration": 34,
    "start_time": "2025-01-22T16:15:57.261Z"
   },
   {
    "duration": 3,
    "start_time": "2025-01-22T16:15:59.968Z"
   },
   {
    "duration": 3,
    "start_time": "2025-01-22T16:16:00.265Z"
   },
   {
    "duration": 3,
    "start_time": "2025-01-22T16:16:00.984Z"
   },
   {
    "duration": 7,
    "start_time": "2025-01-22T16:16:01.867Z"
   },
   {
    "duration": 4,
    "start_time": "2025-01-22T16:17:01.774Z"
   },
   {
    "duration": 13,
    "start_time": "2025-01-22T16:17:09.694Z"
   },
   {
    "duration": 19,
    "start_time": "2025-01-22T16:17:17.418Z"
   },
   {
    "duration": 193,
    "start_time": "2025-01-22T16:17:43.613Z"
   },
   {
    "duration": 76,
    "start_time": "2025-01-22T16:25:54.198Z"
   },
   {
    "duration": 83,
    "start_time": "2025-01-22T16:27:05.744Z"
   },
   {
    "duration": 15,
    "start_time": "2025-01-22T16:27:11.506Z"
   },
   {
    "duration": 77,
    "start_time": "2025-01-22T16:27:23.511Z"
   },
   {
    "duration": 95,
    "start_time": "2025-01-22T16:27:57.957Z"
   },
   {
    "duration": 79,
    "start_time": "2025-01-22T16:29:17.759Z"
   },
   {
    "duration": 17,
    "start_time": "2025-01-22T16:29:22.453Z"
   },
   {
    "duration": 257,
    "start_time": "2025-01-22T16:29:30.314Z"
   },
   {
    "duration": 62,
    "start_time": "2025-01-22T16:30:49.962Z"
   },
   {
    "duration": 104,
    "start_time": "2025-01-22T16:31:29.954Z"
   },
   {
    "duration": 55,
    "start_time": "2025-01-22T16:33:51.587Z"
   },
   {
    "duration": 2357,
    "start_time": "2025-01-22T18:48:47.116Z"
   },
   {
    "duration": 2799,
    "start_time": "2025-01-22T18:48:49.476Z"
   },
   {
    "duration": 15,
    "start_time": "2025-01-22T18:48:52.277Z"
   },
   {
    "duration": 2,
    "start_time": "2025-01-22T18:48:52.294Z"
   },
   {
    "duration": 10,
    "start_time": "2025-01-22T18:48:52.299Z"
   },
   {
    "duration": 9,
    "start_time": "2025-01-22T18:48:52.311Z"
   },
   {
    "duration": 25,
    "start_time": "2025-01-22T18:48:52.321Z"
   },
   {
    "duration": 3,
    "start_time": "2025-01-22T18:48:52.347Z"
   },
   {
    "duration": 3,
    "start_time": "2025-01-22T18:48:52.351Z"
   },
   {
    "duration": 18,
    "start_time": "2025-01-22T18:48:52.356Z"
   },
   {
    "duration": 2795,
    "start_time": "2025-01-22T18:48:52.376Z"
   },
   {
    "duration": 3,
    "start_time": "2025-01-22T18:48:55.173Z"
   },
   {
    "duration": 4,
    "start_time": "2025-01-22T18:48:55.178Z"
   },
   {
    "duration": 11,
    "start_time": "2025-01-22T18:48:55.184Z"
   },
   {
    "duration": 7,
    "start_time": "2025-01-22T18:48:55.198Z"
   },
   {
    "duration": 403,
    "start_time": "2025-01-22T18:48:55.207Z"
   },
   {
    "duration": 0,
    "start_time": "2025-01-22T18:48:55.612Z"
   },
   {
    "duration": 0,
    "start_time": "2025-01-22T18:48:55.614Z"
   },
   {
    "duration": 0,
    "start_time": "2025-01-22T18:48:55.615Z"
   },
   {
    "duration": 0,
    "start_time": "2025-01-22T18:48:55.616Z"
   },
   {
    "duration": 0,
    "start_time": "2025-01-22T18:48:55.617Z"
   },
   {
    "duration": 0,
    "start_time": "2025-01-22T18:48:55.618Z"
   },
   {
    "duration": 4,
    "start_time": "2025-01-22T18:48:56.029Z"
   },
   {
    "duration": 3,
    "start_time": "2025-01-22T18:48:56.202Z"
   },
   {
    "duration": 35,
    "start_time": "2025-01-22T18:48:56.528Z"
   },
   {
    "duration": 3,
    "start_time": "2025-01-22T18:48:57.489Z"
   },
   {
    "duration": 3,
    "start_time": "2025-01-22T18:48:57.666Z"
   },
   {
    "duration": 3,
    "start_time": "2025-01-22T18:48:57.983Z"
   },
   {
    "duration": 5,
    "start_time": "2025-01-22T18:48:58.322Z"
   },
   {
    "duration": 13,
    "start_time": "2025-01-22T18:50:11.975Z"
   },
   {
    "duration": 14,
    "start_time": "2025-01-22T18:50:12.328Z"
   },
   {
    "duration": 219,
    "start_time": "2025-01-22T18:50:12.705Z"
   },
   {
    "duration": 4,
    "start_time": "2025-01-22T18:50:13.250Z"
   },
   {
    "duration": 2,
    "start_time": "2025-01-22T18:50:13.770Z"
   },
   {
    "duration": 6,
    "start_time": "2025-01-22T18:50:14.375Z"
   },
   {
    "duration": 2,
    "start_time": "2025-01-22T19:00:11.104Z"
   },
   {
    "duration": 13,
    "start_time": "2025-01-22T19:00:57.945Z"
   },
   {
    "duration": 15,
    "start_time": "2025-01-22T19:01:10.333Z"
   },
   {
    "duration": 4,
    "start_time": "2025-01-22T19:01:27.627Z"
   },
   {
    "duration": 1033,
    "start_time": "2025-01-22T19:04:28.538Z"
   },
   {
    "duration": 9,
    "start_time": "2025-01-22T19:04:31.467Z"
   },
   {
    "duration": 255,
    "start_time": "2025-01-22T19:04:33.782Z"
   },
   {
    "duration": 4,
    "start_time": "2025-01-22T19:04:43.803Z"
   },
   {
    "duration": 11,
    "start_time": "2025-01-22T19:04:54.599Z"
   },
   {
    "duration": 9,
    "start_time": "2025-01-22T19:04:59.074Z"
   },
   {
    "duration": 5,
    "start_time": "2025-01-22T19:06:54.716Z"
   },
   {
    "duration": 4,
    "start_time": "2025-01-22T19:06:56.163Z"
   },
   {
    "duration": 11,
    "start_time": "2025-01-22T19:08:47.654Z"
   },
   {
    "duration": 3,
    "start_time": "2025-01-22T19:09:16.174Z"
   },
   {
    "duration": 4,
    "start_time": "2025-01-22T19:09:16.797Z"
   },
   {
    "duration": 992,
    "start_time": "2025-01-22T19:09:34.550Z"
   },
   {
    "duration": 7,
    "start_time": "2025-01-22T19:09:36.174Z"
   },
   {
    "duration": 3,
    "start_time": "2025-01-22T19:09:37.210Z"
   },
   {
    "duration": 11,
    "start_time": "2025-01-22T19:09:37.862Z"
   },
   {
    "duration": 10,
    "start_time": "2025-01-22T19:09:39.014Z"
   },
   {
    "duration": 3,
    "start_time": "2025-01-22T19:09:39.896Z"
   },
   {
    "duration": 4,
    "start_time": "2025-01-22T19:09:40.792Z"
   },
   {
    "duration": 226,
    "start_time": "2025-01-22T19:09:46.128Z"
   },
   {
    "duration": 19,
    "start_time": "2025-01-22T19:09:54.893Z"
   },
   {
    "duration": 14,
    "start_time": "2025-01-22T19:10:51.012Z"
   },
   {
    "duration": 2567,
    "start_time": "2025-01-22T19:10:56.552Z"
   },
   {
    "duration": 2,
    "start_time": "2025-01-22T19:11:33.727Z"
   },
   {
    "duration": 4,
    "start_time": "2025-01-22T19:12:01.005Z"
   },
   {
    "duration": 15,
    "start_time": "2025-01-22T19:12:13.017Z"
   },
   {
    "duration": 14,
    "start_time": "2025-01-22T19:12:29.228Z"
   },
   {
    "duration": 9,
    "start_time": "2025-01-22T19:12:46.706Z"
   },
   {
    "duration": 8,
    "start_time": "2025-01-22T19:12:52.886Z"
   },
   {
    "duration": 16,
    "start_time": "2025-01-22T19:13:58.812Z"
   },
   {
    "duration": 21,
    "start_time": "2025-01-22T19:14:06.104Z"
   },
   {
    "duration": 20,
    "start_time": "2025-01-22T19:14:23.710Z"
   },
   {
    "duration": 25,
    "start_time": "2025-01-22T19:14:58.775Z"
   },
   {
    "duration": 4,
    "start_time": "2025-01-22T19:15:06.740Z"
   },
   {
    "duration": 21,
    "start_time": "2025-01-22T19:15:08.067Z"
   },
   {
    "duration": 6,
    "start_time": "2025-01-22T19:15:38.881Z"
   },
   {
    "duration": 25,
    "start_time": "2025-01-22T19:15:39.421Z"
   },
   {
    "duration": 4,
    "start_time": "2025-01-22T19:15:46.119Z"
   },
   {
    "duration": 39,
    "start_time": "2025-01-22T19:15:47.556Z"
   },
   {
    "duration": 4,
    "start_time": "2025-01-22T19:16:03.328Z"
   },
   {
    "duration": 25,
    "start_time": "2025-01-22T19:16:03.839Z"
   },
   {
    "duration": 4,
    "start_time": "2025-01-22T19:19:24.640Z"
   },
   {
    "duration": 7,
    "start_time": "2025-01-22T19:19:25.910Z"
   },
   {
    "duration": 19,
    "start_time": "2025-01-22T19:22:25.536Z"
   },
   {
    "duration": 24,
    "start_time": "2025-01-22T19:23:04.772Z"
   },
   {
    "duration": 383,
    "start_time": "2025-01-22T19:25:26.063Z"
   },
   {
    "duration": 3,
    "start_time": "2025-01-22T19:26:00.664Z"
   },
   {
    "duration": 456,
    "start_time": "2025-01-22T19:26:15.252Z"
   },
   {
    "duration": 16,
    "start_time": "2025-01-22T19:28:43.089Z"
   },
   {
    "duration": 44,
    "start_time": "2025-01-22T19:36:54.916Z"
   },
   {
    "duration": 69,
    "start_time": "2025-01-22T19:37:17.957Z"
   },
   {
    "duration": 865,
    "start_time": "2025-01-22T19:56:15.924Z"
   },
   {
    "duration": 5,
    "start_time": "2025-01-22T20:00:22.987Z"
   },
   {
    "duration": 5,
    "start_time": "2025-01-22T20:00:32.096Z"
   },
   {
    "duration": 7,
    "start_time": "2025-01-22T20:00:33.049Z"
   },
   {
    "duration": 8,
    "start_time": "2025-01-22T20:00:50.094Z"
   },
   {
    "duration": 8,
    "start_time": "2025-01-22T20:00:55.032Z"
   },
   {
    "duration": 3,
    "start_time": "2025-01-22T20:03:18.332Z"
   },
   {
    "duration": 978,
    "start_time": "2025-01-22T20:05:03.491Z"
   },
   {
    "duration": 9,
    "start_time": "2025-01-22T20:05:05.091Z"
   },
   {
    "duration": 3,
    "start_time": "2025-01-22T20:05:06.249Z"
   },
   {
    "duration": 11,
    "start_time": "2025-01-22T20:05:06.949Z"
   },
   {
    "duration": 10,
    "start_time": "2025-01-22T20:05:07.461Z"
   },
   {
    "duration": 5,
    "start_time": "2025-01-22T20:05:08.044Z"
   },
   {
    "duration": 5,
    "start_time": "2025-01-22T20:05:08.610Z"
   },
   {
    "duration": 3,
    "start_time": "2025-01-22T20:05:09.118Z"
   },
   {
    "duration": 14,
    "start_time": "2025-01-22T20:05:09.679Z"
   },
   {
    "duration": 2549,
    "start_time": "2025-01-22T20:05:12.058Z"
   },
   {
    "duration": 3,
    "start_time": "2025-01-22T20:05:16.087Z"
   },
   {
    "duration": 43,
    "start_time": "2025-01-22T20:05:16.925Z"
   },
   {
    "duration": 22,
    "start_time": "2025-01-22T20:05:27.704Z"
   },
   {
    "duration": 69,
    "start_time": "2025-01-22T20:05:28.170Z"
   },
   {
    "duration": 9,
    "start_time": "2025-01-22T20:05:30.569Z"
   },
   {
    "duration": 14,
    "start_time": "2025-01-22T20:05:31.477Z"
   },
   {
    "duration": 3,
    "start_time": "2025-01-22T20:05:36.172Z"
   },
   {
    "duration": 9,
    "start_time": "2025-01-22T20:05:37.362Z"
   },
   {
    "duration": 234,
    "start_time": "2025-01-22T20:05:38.587Z"
   },
   {
    "duration": 21,
    "start_time": "2025-01-22T20:07:16.137Z"
   },
   {
    "duration": 3,
    "start_time": "2025-01-22T20:07:21.916Z"
   },
   {
    "duration": 20,
    "start_time": "2025-01-22T20:07:28.156Z"
   },
   {
    "duration": 3,
    "start_time": "2025-01-22T20:08:11.304Z"
   },
   {
    "duration": 1137,
    "start_time": "2025-01-22T20:08:24.475Z"
   },
   {
    "duration": 8,
    "start_time": "2025-01-22T20:08:26.015Z"
   },
   {
    "duration": 5,
    "start_time": "2025-01-22T20:08:26.356Z"
   },
   {
    "duration": 11,
    "start_time": "2025-01-22T20:08:26.591Z"
   },
   {
    "duration": 11,
    "start_time": "2025-01-22T20:08:26.777Z"
   },
   {
    "duration": 3,
    "start_time": "2025-01-22T20:08:26.973Z"
   },
   {
    "duration": 7,
    "start_time": "2025-01-22T20:08:27.155Z"
   },
   {
    "duration": 3,
    "start_time": "2025-01-22T20:08:27.329Z"
   },
   {
    "duration": 15,
    "start_time": "2025-01-22T20:08:27.507Z"
   },
   {
    "duration": 2571,
    "start_time": "2025-01-22T20:08:28.268Z"
   },
   {
    "duration": 2,
    "start_time": "2025-01-22T20:08:30.842Z"
   },
   {
    "duration": 52,
    "start_time": "2025-01-22T20:08:30.846Z"
   },
   {
    "duration": 23,
    "start_time": "2025-01-22T20:08:30.901Z"
   },
   {
    "duration": 80,
    "start_time": "2025-01-22T20:08:31.902Z"
   },
   {
    "duration": 11,
    "start_time": "2025-01-22T20:08:33.766Z"
   },
   {
    "duration": 7,
    "start_time": "2025-01-22T20:08:34.351Z"
   },
   {
    "duration": 5,
    "start_time": "2025-01-22T20:08:37.755Z"
   },
   {
    "duration": 8,
    "start_time": "2025-01-22T20:08:38.733Z"
   },
   {
    "duration": 980,
    "start_time": "2025-01-22T20:08:39.615Z"
   },
   {
    "duration": 1038,
    "start_time": "2025-01-22T20:18:57.521Z"
   },
   {
    "duration": 9,
    "start_time": "2025-01-22T20:19:00.102Z"
   },
   {
    "duration": 6,
    "start_time": "2025-01-22T20:19:01.049Z"
   },
   {
    "duration": 11,
    "start_time": "2025-01-22T20:19:01.642Z"
   },
   {
    "duration": 9,
    "start_time": "2025-01-22T20:19:02.158Z"
   },
   {
    "duration": 3,
    "start_time": "2025-01-22T20:19:02.770Z"
   },
   {
    "duration": 4,
    "start_time": "2025-01-22T20:19:03.405Z"
   },
   {
    "duration": 2,
    "start_time": "2025-01-22T20:19:04.197Z"
   },
   {
    "duration": 14,
    "start_time": "2025-01-22T20:19:05.081Z"
   },
   {
    "duration": 2558,
    "start_time": "2025-01-22T20:19:07.329Z"
   },
   {
    "duration": 3,
    "start_time": "2025-01-22T20:19:10.328Z"
   },
   {
    "duration": 3,
    "start_time": "2025-01-22T20:19:29.780Z"
   },
   {
    "duration": 3,
    "start_time": "2025-01-22T20:20:03.383Z"
   },
   {
    "duration": 2,
    "start_time": "2025-01-22T20:20:17.383Z"
   },
   {
    "duration": 46,
    "start_time": "2025-01-22T20:20:18.122Z"
   },
   {
    "duration": 25,
    "start_time": "2025-01-22T20:20:19.221Z"
   },
   {
    "duration": 79,
    "start_time": "2025-01-22T20:20:20.192Z"
   },
   {
    "duration": 8,
    "start_time": "2025-01-22T20:20:23.903Z"
   },
   {
    "duration": 8,
    "start_time": "2025-01-22T20:20:24.538Z"
   },
   {
    "duration": 3,
    "start_time": "2025-01-22T20:20:32.000Z"
   },
   {
    "duration": 9,
    "start_time": "2025-01-22T20:20:34.078Z"
   },
   {
    "duration": 3,
    "start_time": "2025-01-22T20:20:37.329Z"
   },
   {
    "duration": 2,
    "start_time": "2025-01-22T20:20:37.946Z"
   },
   {
    "duration": 386,
    "start_time": "2025-01-22T20:20:38.893Z"
   },
   {
    "duration": 417,
    "start_time": "2025-01-22T20:20:39.824Z"
   },
   {
    "duration": 11,
    "start_time": "2025-01-22T20:20:40.823Z"
   },
   {
    "duration": 136,
    "start_time": "2025-01-22T20:20:41.822Z"
   },
   {
    "duration": 4,
    "start_time": "2025-01-22T20:20:46.277Z"
   },
   {
    "duration": 3,
    "start_time": "2025-01-22T20:20:47.749Z"
   },
   {
    "duration": 232,
    "start_time": "2025-01-22T20:20:50.260Z"
   },
   {
    "duration": 14,
    "start_time": "2025-01-22T20:26:04.420Z"
   },
   {
    "duration": 19,
    "start_time": "2025-01-22T20:26:12.010Z"
   },
   {
    "duration": 41,
    "start_time": "2025-01-22T20:26:34.927Z"
   },
   {
    "duration": 3,
    "start_time": "2025-01-22T20:27:50.360Z"
   },
   {
    "duration": 3,
    "start_time": "2025-01-22T20:27:52.680Z"
   },
   {
    "duration": 98,
    "start_time": "2025-01-22T20:27:53.547Z"
   },
   {
    "duration": 3,
    "start_time": "2025-01-22T20:30:06.284Z"
   },
   {
    "duration": 13,
    "start_time": "2025-01-22T20:30:12.065Z"
   },
   {
    "duration": 3,
    "start_time": "2025-01-22T20:34:40.071Z"
   },
   {
    "duration": 2,
    "start_time": "2025-01-22T20:34:45.205Z"
   },
   {
    "duration": 4,
    "start_time": "2025-01-22T20:37:58.476Z"
   },
   {
    "duration": 5,
    "start_time": "2025-01-22T20:38:02.241Z"
   },
   {
    "duration": 7,
    "start_time": "2025-01-22T20:38:03.719Z"
   },
   {
    "duration": 7,
    "start_time": "2025-01-22T20:39:09.355Z"
   },
   {
    "duration": 3,
    "start_time": "2025-01-22T20:41:01.013Z"
   },
   {
    "duration": 20,
    "start_time": "2025-01-22T20:41:58.435Z"
   },
   {
    "duration": 59,
    "start_time": "2025-01-22T20:42:25.715Z"
   },
   {
    "duration": 5,
    "start_time": "2025-01-22T20:43:28.280Z"
   },
   {
    "duration": 6,
    "start_time": "2025-01-22T20:43:50.334Z"
   },
   {
    "duration": 6,
    "start_time": "2025-01-22T20:44:00.883Z"
   },
   {
    "duration": 506,
    "start_time": "2025-01-22T20:44:06.121Z"
   },
   {
    "duration": 17,
    "start_time": "2025-01-22T20:44:58.110Z"
   },
   {
    "duration": 9,
    "start_time": "2025-01-22T20:55:21.186Z"
   },
   {
    "duration": 4,
    "start_time": "2025-01-22T20:56:14.519Z"
   },
   {
    "duration": 7,
    "start_time": "2025-01-22T20:56:15.233Z"
   },
   {
    "duration": 6,
    "start_time": "2025-01-22T20:56:15.804Z"
   },
   {
    "duration": 3,
    "start_time": "2025-01-22T20:56:16.582Z"
   },
   {
    "duration": 10,
    "start_time": "2025-01-22T21:04:36.228Z"
   },
   {
    "duration": 10,
    "start_time": "2025-01-22T21:05:10.210Z"
   },
   {
    "duration": 2353,
    "start_time": "2025-01-23T13:35:48.822Z"
   },
   {
    "duration": 2676,
    "start_time": "2025-01-23T13:35:51.178Z"
   },
   {
    "duration": 9,
    "start_time": "2025-01-23T13:37:11.932Z"
   },
   {
    "duration": 4,
    "start_time": "2025-01-23T13:37:12.468Z"
   },
   {
    "duration": 11,
    "start_time": "2025-01-23T13:37:12.662Z"
   },
   {
    "duration": 9,
    "start_time": "2025-01-23T13:37:12.858Z"
   },
   {
    "duration": 3,
    "start_time": "2025-01-23T13:37:13.314Z"
   },
   {
    "duration": 4,
    "start_time": "2025-01-23T13:37:13.550Z"
   },
   {
    "duration": 2,
    "start_time": "2025-01-23T13:37:13.922Z"
   },
   {
    "duration": 14,
    "start_time": "2025-01-23T13:37:14.583Z"
   },
   {
    "duration": 2718,
    "start_time": "2025-01-23T13:37:29.456Z"
   },
   {
    "duration": 2349,
    "start_time": "2025-01-23T14:32:28.256Z"
   },
   {
    "duration": 2644,
    "start_time": "2025-01-23T14:32:30.607Z"
   },
   {
    "duration": 13,
    "start_time": "2025-01-23T14:32:33.252Z"
   },
   {
    "duration": 3,
    "start_time": "2025-01-23T14:32:33.268Z"
   },
   {
    "duration": 12,
    "start_time": "2025-01-23T14:32:33.272Z"
   },
   {
    "duration": 8,
    "start_time": "2025-01-23T14:32:33.287Z"
   },
   {
    "duration": 3,
    "start_time": "2025-01-23T14:32:33.296Z"
   },
   {
    "duration": 4,
    "start_time": "2025-01-23T14:32:33.300Z"
   },
   {
    "duration": 26,
    "start_time": "2025-01-23T14:32:33.306Z"
   },
   {
    "duration": 13,
    "start_time": "2025-01-23T14:32:33.335Z"
   },
   {
    "duration": 2526,
    "start_time": "2025-01-23T14:32:34.133Z"
   },
   {
    "duration": 3,
    "start_time": "2025-01-23T14:32:36.661Z"
   },
   {
    "duration": 126,
    "start_time": "2025-01-23T14:32:36.666Z"
   },
   {
    "duration": 23,
    "start_time": "2025-01-23T14:32:36.795Z"
   },
   {
    "duration": 73,
    "start_time": "2025-01-23T14:32:36.930Z"
   },
   {
    "duration": 8,
    "start_time": "2025-01-23T14:33:04.918Z"
   },
   {
    "duration": 7,
    "start_time": "2025-01-23T14:33:05.121Z"
   },
   {
    "duration": 4,
    "start_time": "2025-01-23T14:33:37.804Z"
   },
   {
    "duration": 9,
    "start_time": "2025-01-23T14:33:38.367Z"
   },
   {
    "duration": 3,
    "start_time": "2025-01-23T14:33:38.631Z"
   },
   {
    "duration": 2,
    "start_time": "2025-01-23T14:33:40.107Z"
   },
   {
    "duration": 359,
    "start_time": "2025-01-23T14:33:40.280Z"
   },
   {
    "duration": 422,
    "start_time": "2025-01-23T14:33:40.641Z"
   },
   {
    "duration": 10,
    "start_time": "2025-01-23T14:33:41.065Z"
   },
   {
    "duration": 134,
    "start_time": "2025-01-23T14:33:42.277Z"
   },
   {
    "duration": 3,
    "start_time": "2025-01-23T14:34:23.039Z"
   },
   {
    "duration": 3,
    "start_time": "2025-01-23T14:34:23.783Z"
   },
   {
    "duration": 6,
    "start_time": "2025-01-23T14:34:24.167Z"
   },
   {
    "duration": 3,
    "start_time": "2025-01-23T14:34:43.227Z"
   },
   {
    "duration": 2,
    "start_time": "2025-01-23T14:34:43.461Z"
   },
   {
    "duration": 2,
    "start_time": "2025-01-23T14:34:43.880Z"
   },
   {
    "duration": 6,
    "start_time": "2025-01-23T14:34:44.276Z"
   },
   {
    "duration": 7,
    "start_time": "2025-01-23T14:34:45.916Z"
   },
   {
    "duration": 4,
    "start_time": "2025-01-23T14:34:46.474Z"
   },
   {
    "duration": 10,
    "start_time": "2025-01-23T14:34:47.325Z"
   },
   {
    "duration": 4,
    "start_time": "2025-01-23T14:36:13.922Z"
   },
   {
    "duration": 7,
    "start_time": "2025-01-23T14:36:14.121Z"
   },
   {
    "duration": 7,
    "start_time": "2025-01-23T14:36:14.507Z"
   },
   {
    "duration": 4,
    "start_time": "2025-01-23T14:36:14.735Z"
   },
   {
    "duration": 3,
    "start_time": "2025-01-23T14:36:26.462Z"
   }
  ],
  "kernelspec": {
   "display_name": "Python 3 (ipykernel)",
   "language": "python",
   "name": "python3"
  },
  "language_info": {
   "codemirror_mode": {
    "name": "ipython",
    "version": 3
   },
   "file_extension": ".py",
   "mimetype": "text/x-python",
   "name": "python",
   "nbconvert_exporter": "python",
   "pygments_lexer": "ipython3",
   "version": "3.9.19"
  },
  "toc": {
   "base_numbering": 1,
   "nav_menu": {},
   "number_sections": true,
   "sideBar": true,
   "skip_h1_title": true,
   "title_cell": "Table of Contents",
   "title_sidebar": "Contents",
   "toc_cell": false,
   "toc_position": {},
   "toc_section_display": true,
   "toc_window_display": false
  }
 },
 "nbformat": 4,
 "nbformat_minor": 4
}
